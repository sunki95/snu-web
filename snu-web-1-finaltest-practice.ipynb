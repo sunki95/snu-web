{
 "cells": [
  {
   "cell_type": "markdown",
   "metadata": {},
   "source": [
    "# 1이상 10000이하의 수를 랜덤 100회 생성하여, 1의 자리수값으로 그룹을 지어, 많은 숫자가 포함된 그룹부터 TOP3 출력\n"
   ]
  },
  {
   "cell_type": "code",
   "execution_count": 13,
   "metadata": {
    "collapsed": false
   },
   "outputs": [
    {
     "name": "stdout",
     "output_type": "stream",
     "text": [
      "[(4, 14), (2, 13), (6, 13)]\n"
     ]
    }
   ],
   "source": [
    "import random\n",
    "from collections import defaultdict\n",
    "\n",
    "number_dict = defaultdict(lambda : 0)\n",
    "\n",
    "for i in range(1,100):\n",
    "    number = random.randint(1,10000)\n",
    "    last_number = number % 10\n",
    "    number_dict[last_number] += 1\n",
    "\n",
    "print(sorted(number_dict.items(), key = itemgetter(1), reverse = True)[:3])\n"
   ]
  },
  {
   "cell_type": "markdown",
   "metadata": {},
   "source": [
    "# Callable Object - Function - Decorator"
   ]
  },
  {
   "cell_type": "code",
   "execution_count": 49,
   "metadata": {
    "collapsed": false
   },
   "outputs": [
    {
     "data": {
      "text/plain": [
       "13"
      ]
     },
     "execution_count": 49,
     "metadata": {},
     "output_type": "execute_result"
    }
   ],
   "source": [
    "def base(i):\n",
    "    def outer_wrap(fn):\n",
    "        def inner_wrap(x,y):\n",
    "            return fn(x,y) + i\n",
    "        return inner_wrap\n",
    "    return outer_wrap\n",
    "\n",
    "\n",
    "@base(10)\n",
    "def plus(x,y):\n",
    "    return x + y\n",
    "\n",
    "plus(1,2)\n",
    "            \n"
   ]
  },
  {
   "cell_type": "markdown",
   "metadata": {},
   "source": [
    "# Callable Object - Class - Decorator"
   ]
  },
  {
   "cell_type": "code",
   "execution_count": 49,
   "metadata": {
    "collapsed": false
   },
   "outputs": [
    {
     "data": {
      "text/plain": [
       "13"
      ]
     },
     "execution_count": 49,
     "metadata": {},
     "output_type": "execute_result"
    }
   ],
   "source": [
    "class base:\n",
    "    def __init__(self,i):\n",
    "        self.i = i\n",
    "    def __call__(self,fn):\n",
    "        def wrap(*args):\n",
    "            return fn(*args) + self.i\n",
    "        return wrap\n",
    "\n",
    "@base(10)\n",
    "def plus(x,y):\n",
    "    return x + y\n",
    "\n",
    "plus(1,2)\n",
    "            \n",
    "\n",
    "            "
   ]
  },
  {
   "cell_type": "code",
   "execution_count": 30,
   "metadata": {
    "collapsed": false
   },
   "outputs": [
    {
     "name": "stdout",
     "output_type": "stream",
     "text": [
      "13\n"
     ]
    }
   ],
   "source": [
    "class Calculator(object):\n",
    "    def __init__(self, base):\n",
    "        self.base = base\n",
    "    def __call__(self, x, y):\n",
    "        return self.base + x + y\n",
    "calculator = Calculator(10)\n",
    "print(calculator(1, 2))"
   ]
  },
  {
   "cell_type": "markdown",
   "metadata": {},
   "source": [
    "# 무한 팩토리얼"
   ]
  },
  {
   "cell_type": "code",
   "execution_count": 26,
   "metadata": {
    "collapsed": false
   },
   "outputs": [
    {
     "name": "stdout",
     "output_type": "stream",
     "text": [
      "1\n",
      "1\n",
      "2\n",
      "6\n",
      "24\n",
      "120\n"
     ]
    }
   ],
   "source": [
    "def infinite_fact(n):\n",
    "    x,y = 1,0\n",
    "    while n+1 > y:\n",
    "        yield x\n",
    "        y,x = y+1 , x*(y+1)\n",
    "        \n",
    "                \n",
    "for i in infinite_fact(5):\n",
    "    print (i)\n"
   ]
  },
  {
   "cell_type": "code",
   "execution_count": 42,
   "metadata": {
    "collapsed": false
   },
   "outputs": [
    {
     "data": {
      "text/plain": [
       "3628800"
      ]
     },
     "execution_count": 42,
     "metadata": {},
     "output_type": "execute_result"
    }
   ],
   "source": [
    "def factorial(n):\n",
    "    result = 1\n",
    "    for i in range(n,1,-1):\n",
    "        result *= i\n",
    "    return result\n",
    "\n",
    "factorial(10)"
   ]
  },
  {
   "cell_type": "code",
   "execution_count": 44,
   "metadata": {
    "collapsed": false
   },
   "outputs": [
    {
     "data": {
      "text/plain": [
       "3628800"
      ]
     },
     "execution_count": 44,
     "metadata": {},
     "output_type": "execute_result"
    }
   ],
   "source": [
    "def factorial2(n):\n",
    "    if n <= 1:\n",
    "        return 1\n",
    "    else:\n",
    "        return factorial(n-1)*n\n",
    "    \n",
    "factorial(10)"
   ]
  },
  {
   "cell_type": "markdown",
   "metadata": {},
   "source": [
    "# 무한 랜덤값"
   ]
  },
  {
   "cell_type": "code",
   "execution_count": 36,
   "metadata": {
    "collapsed": false
   },
   "outputs": [
    {
     "name": "stdout",
     "output_type": "stream",
     "text": [
      "31\n",
      "769\n",
      "66\n",
      "506\n",
      "491\n"
     ]
    }
   ],
   "source": [
    "import random\n",
    "def infinite_random(n):\n",
    "    for i in range(n):\n",
    "        yield random.randint(1,1000)\n",
    "    \n",
    "for i in infinite_random(5):\n",
    "    print (i)\n",
    "        \n",
    "     "
   ]
  },
  {
   "cell_type": "markdown",
   "metadata": {},
   "source": [
    "# UTF-8 Encoded csv"
   ]
  },
  {
   "cell_type": "code",
   "execution_count": 31,
   "metadata": {
    "collapsed": false
   },
   "outputs": [
    {
     "name": "stdout",
     "output_type": "stream",
     "text": [
      "이름,국어성적,영어성적\n",
      "철수0,1,2\n",
      "철수1,2,3\n",
      "철수2,3,4\n",
      "철수3,4,5\n",
      "철수4,5,6\n",
      "철수5,6,7\n",
      "철수6,7,8\n",
      "철수7,8,9\n",
      "철수8,9,10\n",
      "철수9,10,11\n",
      "철수10,11,12\n"
     ]
    }
   ],
   "source": [
    "print(open('/Users/sunki/work.csv', 'rt', encoding='UTF-8').read())"
   ]
  },
  {
   "cell_type": "code",
   "execution_count": 34,
   "metadata": {
    "collapsed": false
   },
   "outputs": [
    {
     "name": "stdout",
     "output_type": "stream",
     "text": [
      "이름,국어성적,영어성적,수학성적,\n",
      "철수,89,10,78\n",
      "철수1,89,10,78\n",
      "철수2,89,10,78\n"
     ]
    }
   ],
   "source": [
    "columns = ['이름', '국어성적', '영어성적', '수학성적']\n",
    "score_list = [\n",
    "    {'이름': '철수', '국어성적': 89, '영어성적': 10, '수학성적': 78},\n",
    "    {'이름': '철수1', '국어성적': 89, '영어성적': 10, '수학성적': 78},\n",
    "    {'이름': '철수2', '국어성적': 89, '영어성적': 10, '수학성적': 78},\n",
    "]\n",
    "\n",
    "for column in columns:\n",
    "    print(column, end=',')\n",
    "print()\n",
    "\n",
    "for score_dict in score_list:\n",
    "    print('{이름},{국어성적},{영어성적},{수학성적}'.format(**score_dict))"
   ]
  },
  {
   "cell_type": "code",
   "execution_count": 35,
   "metadata": {
    "collapsed": false
   },
   "outputs": [],
   "source": [
    "import csv\n",
    "\n",
    "with open('result.csv', 'wt', encoding='UTF-8') as f:\n",
    "    writer = csv.writer(f, delimiter='|')\n",
    "    # csv.reader(f)\n",
    "    writer.writerow(['이름', '국어성적', '영어성적', '수학성적'])\n",
    "    writer.writerow(['철수1', '90', '95', '100'])\n",
    "    writer.writerow(['철수2', '90', '95', '100'])\n",
    "    # print(writer.writerows)\n",
    "\n"
   ]
  },
  {
   "cell_type": "code",
   "execution_count": 36,
   "metadata": {
    "collapsed": false
   },
   "outputs": [
    {
     "name": "stdout",
     "output_type": "stream",
     "text": [
      "이름|국어성적|영어성적|수학성적\r",
      "\r\n",
      "철수1|90|95|100\r",
      "\r\n",
      "철수2|90|95|100\r",
      "\r\n"
     ]
    }
   ],
   "source": [
    "!cat result.csv"
   ]
  },
  {
   "cell_type": "markdown",
   "metadata": {},
   "source": [
    "# Regular Expression"
   ]
  },
  {
   "cell_type": "code",
   "execution_count": 40,
   "metadata": {
    "collapsed": true
   },
   "outputs": [],
   "source": [
    "import re\n",
    "\n",
    "PATTERN = r'^01[016-9]-?\\d{3,4}-?\\d{4}$'\n",
    "def phone_validator(number):\n",
    "    if re.match(PATTERN,number):\n",
    "        return True\n",
    "    return False\n",
    "\n",
    "    "
   ]
  },
  {
   "cell_type": "code",
   "execution_count": 41,
   "metadata": {
    "collapsed": false
   },
   "outputs": [
    {
     "data": {
      "text/plain": [
       "True"
      ]
     },
     "execution_count": 41,
     "metadata": {},
     "output_type": "execute_result"
    }
   ],
   "source": [
    "phone_validator('01039598599')"
   ]
  },
  {
   "cell_type": "markdown",
   "metadata": {},
   "source": [
    "숫자 1글자 : [0123456789] 또는 [0-9] 또는 \\d\n",
    "알파벳 소문자 1글자 : [abcdefghijklmnopqrstuvwxyz] 혹은 [a-z]\n",
    "알파벳 대문자 1글자 : [ABCDEFGHIJKLMNOPQRSTUVWXYZ] 혹은 [A-Z] \n",
    "알파벳 대/소문자 1글자 : [a-zA-Z] \n",
    "화이트 스페이스 : [ \\t\\n\\r\\f\\v] 혹은 \\s \n",
    "16진수 1글자 : [0-9a-fA-F] \n",
    "문자열의 시작을 표시 : ^ \n",
    "문자열의 끝을 표시 : $\n",
    "한글 1글자 :   \"ᄀ-힣\"\n",
    "\n",
    "re.match : 문자열 전체매칭\n",
    "re.search : 문자열 부분매칭\n",
    "re.sub : 지정 패턴의 문자열을 다른 문자열로 변경\n",
    "\n",
    "숫자 0회 또는 1회 : \\d? \n",
    "숫자 0회 이상 : \\d*\n",
    "숫자 1회 이상 : \\d+\n",
    "숫자 2글자 : \\d{2} \n",
    "숫자 3글자 이상, 5글자 이하 : \\d{3,5}"
   ]
  },
  {
   "cell_type": "markdown",
   "metadata": {},
   "source": [
    "# List , Dict , Set"
   ]
  },
  {
   "cell_type": "markdown",
   "metadata": {},
   "source": [
    "[ 표현식 for 변수 in 순회가능한객체 if 필터링조건 ]\n",
    "{ Key:표현식 for 변수 in 순회가능한객체 if 필터링조건 }\n",
    "{ 표현식 for 변수 in 순회가능한객체 if 필터링조건 }"
   ]
  },
  {
   "cell_type": "code",
   "execution_count": 59,
   "metadata": {
    "collapsed": false
   },
   "outputs": [
    {
     "data": {
      "text/plain": [
       "[0, 4, 16, 36, 64]"
      ]
     },
     "execution_count": 59,
     "metadata": {},
     "output_type": "execute_result"
    }
   ],
   "source": [
    "[i**2 for i in range(10) if i % 2 == 0]"
   ]
  },
  {
   "cell_type": "code",
   "execution_count": 21,
   "metadata": {
    "collapsed": false
   },
   "outputs": [
    {
     "name": "stdout",
     "output_type": "stream",
     "text": [
      "[1, 3, 5, 7, 2, 4, 6, 8]\n",
      "[3, 7, 11, 15]\n"
     ]
    }
   ],
   "source": [
    "numbers1 = [1, 3, 5, 7]\n",
    "numbers2 = [2, 4, 6, 8]\n",
    "print(numbers1 + numbers2)\n",
    "print([i + j for (i, j) in zip(numbers1, numbers2)])"
   ]
  },
  {
   "cell_type": "code",
   "execution_count": 24,
   "metadata": {
    "collapsed": false
   },
   "outputs": [
    {
     "data": {
      "text/plain": [
       "{0: 0, 2: 4, 4: 16, 6: 36, 8: 64}"
      ]
     },
     "execution_count": 24,
     "metadata": {},
     "output_type": "execute_result"
    }
   ],
   "source": [
    "{j: j**2 for j in range(10) if j % 2 == 0}"
   ]
  },
  {
   "cell_type": "code",
   "execution_count": 26,
   "metadata": {
    "collapsed": false
   },
   "outputs": [
    {
     "name": "stdout",
     "output_type": "stream",
     "text": [
      "False\n",
      "red 7\n",
      "yellow 3\n",
      "blue 10\n"
     ]
    }
   ],
   "source": [
    "dict_values = { 'blue': 10, 'yellow': 3, 'red': 7 }\n",
    "print('magenta' in dict_values)\n",
    "for (key, value) in dict_values.items():\n",
    "    print(key, value)"
   ]
  },
  {
   "cell_type": "code",
   "execution_count": 58,
   "metadata": {
    "collapsed": false
   },
   "outputs": [
    {
     "data": {
      "text/plain": [
       "{0, 1, 2, 3, 4}"
      ]
     },
     "execution_count": 58,
     "metadata": {},
     "output_type": "execute_result"
    }
   ],
   "source": [
    "{ i%5 for i in range(100) if i % 2 == 0}"
   ]
  },
  {
   "cell_type": "code",
   "execution_count": 20,
   "metadata": {
    "collapsed": false
   },
   "outputs": [
    {
     "name": "stdout",
     "output_type": "stream",
     "text": [
      "{1, 3, 4, 5}\n",
      "{3, 4, 5}\n",
      "{1, 3, 4, 5, 11, 13, 14, 15}\n",
      "{1}\n",
      "{3, 4, 5, 11, 13, 14, 15}\n",
      "True\n"
     ]
    }
   ],
   "source": [
    "set_numbers1 = { 1, 3, 4, 5, 1, 4, 3, 1 }\n",
    "set_numbers2 = { 11, 13, 14, 15, 11, 14, 13, 11,1 }\n",
    "print(set_numbers1)\n",
    "print(set_numbers1 - set_numbers2) # 차집합\n",
    "print(set_numbers1 | set_numbers2) # 합집합\n",
    "print(set_numbers1 & set_numbers2) # 교집합\n",
    "print(set_numbers1 ^ set_numbers2) # 여집합\n",
    "print(5 in set_numbers1)"
   ]
  },
  {
   "cell_type": "code",
   "execution_count": 65,
   "metadata": {
    "collapsed": false
   },
   "outputs": [
    {
     "data": {
      "text/plain": [
       "(0, 2, 4, 1, 3, 0, 2, 4, 1, 3, 0, 2, 4, 1, 3)"
      ]
     },
     "execution_count": 65,
     "metadata": {},
     "output_type": "execute_result"
    }
   ],
   "source": [
    "tuple( i%5 for i in range(30) if i % 2 == 0 )"
   ]
  },
  {
   "cell_type": "markdown",
   "metadata": {},
   "source": [
    "# Filter, Sort, Map"
   ]
  },
  {
   "cell_type": "code",
   "execution_count": 71,
   "metadata": {
    "collapsed": false
   },
   "outputs": [
    {
     "data": {
      "text/plain": [
       "[0, 1, 2, 3, 4]"
      ]
     },
     "execution_count": 71,
     "metadata": {},
     "output_type": "execute_result"
    }
   ],
   "source": [
    "list(filter(lambda x: x<5 , range(10)))"
   ]
  },
  {
   "cell_type": "code",
   "execution_count": 36,
   "metadata": {
    "collapsed": false
   },
   "outputs": [
    {
     "name": "stdout",
     "output_type": "stream",
     "text": [
      "[0, 3, 6, 9, 12, 15, 18, 1, 4, 7, 10, 13, 16, 19, 2, 5, 8, 11, 14, 17]\n",
      "[0, 1, 2, 3, 4, 5, 6, 7, 8, 9, 10, 11, 12, 13, 14, 15, 16, 17, 18, 19]\n",
      "[0, 3, 6, 9, 12, 15, 18, 1, 4, 7, 10, 13, 16, 19, 2, 5, 8, 11, 14, 17]\n"
     ]
    }
   ],
   "source": [
    "mylist = list(range(20))\n",
    "mylist2 = sorted(mylist, key=lambda x: x%3)\n",
    "\n",
    "print (mylist2)\n",
    "print (mylist)\n",
    "\n",
    "mylist.sort(key = lambda x: x%3)\n",
    "\n",
    "print (mylist)"
   ]
  },
  {
   "cell_type": "code",
   "execution_count": 72,
   "metadata": {
    "collapsed": false
   },
   "outputs": [
    {
     "data": {
      "text/plain": [
       "[0, 1, 4, 9, 16, 25, 36, 49, 64, 81]"
      ]
     },
     "execution_count": 72,
     "metadata": {},
     "output_type": "execute_result"
    }
   ],
   "source": [
    "list(map(lambda x: x**2, range(10) ))"
   ]
  },
  {
   "cell_type": "code",
   "execution_count": 5,
   "metadata": {
    "collapsed": false
   },
   "outputs": [
    {
     "data": {
      "text/plain": [
       "2499999950000000"
      ]
     },
     "execution_count": 5,
     "metadata": {},
     "output_type": "execute_result"
    }
   ],
   "source": [
    "sum(filter(lambda i: i%2==0, range(100000000))) #list"
   ]
  },
  {
   "cell_type": "code",
   "execution_count": 6,
   "metadata": {
    "collapsed": false
   },
   "outputs": [
    {
     "data": {
      "text/plain": [
       "2499999950000000"
      ]
     },
     "execution_count": 6,
     "metadata": {},
     "output_type": "execute_result"
    }
   ],
   "source": [
    "sum(i for i in range(100000000) if i % 2 == 0) #generator"
   ]
  },
  {
   "cell_type": "markdown",
   "metadata": {},
   "source": [
    "# Pytest"
   ]
  },
  {
   "cell_type": "markdown",
   "metadata": {},
   "source": [
    "## func.py\n",
    "\n",
    "def func(x):\n",
    "    return x + 2\n",
    "\n",
    "def base_add(x, y):\n",
    "    '인자의 합에 10을 더한값을 리턴'\n",
    "    return 10 + x + y\n",
    "    \n",
    "## test_func.py\n",
    "from func import func, base_add\n",
    "\n",
    "def test_func():\n",
    "    assert func(1) == 3\n",
    "\n",
    "def test_base_add1():\n",
    "    assert base_add(1, 2) == 113\n",
    "\n",
    "def test_base_add2():\n",
    "    assert base_add(10, 2) == 122\n",
    "    \n",
    "shell -> cd 경로 -> python -m pytest\n"
   ]
  }
 ],
 "metadata": {
  "anaconda-cloud": {},
  "kernelspec": {
   "display_name": "Python [conda root]",
   "language": "python",
   "name": "conda-root-py"
  },
  "language_info": {
   "codemirror_mode": {
    "name": "ipython",
    "version": 3
   },
   "file_extension": ".py",
   "mimetype": "text/x-python",
   "name": "python",
   "nbconvert_exporter": "python",
   "pygments_lexer": "ipython3",
   "version": "3.5.2"
  }
 },
 "nbformat": 4,
 "nbformat_minor": 1
}
